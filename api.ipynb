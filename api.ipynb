{
 "cells": [
  {
   "cell_type": "code",
   "execution_count": 15,
   "metadata": {},
   "outputs": [],
   "source": [
    "from flask import Flask, request, jsonify\n",
    "import pickle\n",
    "import pandas as pd"
   ]
  },
  {
   "cell_type": "code",
   "execution_count": 16,
   "metadata": {},
   "outputs": [],
   "source": [
    "app = Flask(__name__)"
   ]
  },
  {
   "cell_type": "code",
   "execution_count": 17,
   "metadata": {},
   "outputs": [],
   "source": [
    "# Load the trained model\n",
    "with open('price_prediction_model.pkl', 'rb') as model_file:\n",
    "    price_prediction_model = pickle.load(model_file)"
   ]
  },
  {
   "cell_type": "code",
   "execution_count": 18,
   "metadata": {},
   "outputs": [],
   "source": [
    "with open('motor_scaler.pkl', 'rb') as scaler_file:\n",
    "    motor_scaler = pickle.load(scaler_file)\n",
    "   \n",
    "with open('price_scaler.pkl', 'rb') as scaler_file:\n",
    "    price_scaler = pickle.load(scaler_file)"
   ]
  },
  {
   "cell_type": "code",
   "execution_count": 19,
   "metadata": {},
   "outputs": [],
   "source": [
    "training_data = pd.read_csv('resultDF.csv')"
   ]
  },
  {
   "cell_type": "code",
   "execution_count": 20,
   "metadata": {},
   "outputs": [],
   "source": [
    "excluded_columns = ['Price', 'normalized_price'] \n",
    "feature_names = [col for col in training_data.columns if col not in excluded_columns]"
   ]
  },
  {
   "cell_type": "code",
   "execution_count": 21,
   "metadata": {},
   "outputs": [],
   "source": [
    "@app.route('/predict', methods=['POST'])\n",
    "def predict():\n",
    "    try:\n",
    "        # Initialize DataFrame with default values (zeros)\n",
    "        default_data = pd.DataFrame([[0] * len(feature_names)], columns=feature_names)\n",
    "\n",
    "        # Get data from the request\n",
    "        data = request.get_json(force=True)\n",
    "        app.logger.info(f\"Received data: {data}\")\n",
    "\n",
    "        # Convert received data to DataFrame\n",
    "        input_data = pd.DataFrame([data])\n",
    "\n",
    "        # Extract features used during training\n",
    "        features_used_during_training = input_data.columns\n",
    "\n",
    "        # Select only the relevant features from the received data\n",
    "        input_data_selected = input_data[features_used_during_training]\n",
    "\n",
    "        # Update the default_data with the user input\n",
    "        default_data.update(input_data_selected)\n",
    "\n",
    "        # Scale the 'Motor power' feature using the motor scaler\n",
    "        default_data['Motor power'] = motor_scaler.transform(default_data[['Motor power']])\n",
    "\n",
    "        # Make predictions using the model\n",
    "        predictions = price_prediction_model.predict(default_data)\n",
    "\n",
    "        # Inverse transform the normalized predictions\n",
    "        original_scale_predictions = price_scaler.inverse_transform(predictions.reshape(-1, 1))\n",
    "\n",
    "        # Log data before prediction\n",
    "        app.logger.info(f\"Predicting with data: {default_data}\")\n",
    "\n",
    "        # Return the unnormalized predictions\n",
    "        return jsonify({'predicted_price': original_scale_predictions.tolist()})\n",
    "\n",
    "    except Exception as e:\n",
    "        app.logger.error(f\"Error: {str(e)}\")\n",
    "        return jsonify({'error': f'Internal Server Error: {str(e)}'})"
   ]
  },
  {
   "cell_type": "code",
   "execution_count": 22,
   "metadata": {},
   "outputs": [],
   "source": [
    "@app.route('/')\n",
    "def home():\n",
    "    return \"hello\""
   ]
  },
  {
   "cell_type": "code",
   "execution_count": 23,
   "metadata": {},
   "outputs": [
    {
     "name": "stdout",
     "output_type": "stream",
     "text": [
      " * Serving Flask app '__main__'\n",
      " * Debug mode: off\n"
     ]
    },
    {
     "name": "stderr",
     "output_type": "stream",
     "text": [
      "WARNING: This is a development server. Do not use it in a production deployment. Use a production WSGI server instead.\n",
      " * Running on http://127.0.0.1:5000\n",
      "Press CTRL+C to quit\n",
      "127.0.0.1 - - [13/Dec/2023 10:02:18] \"POST /predict HTTP/1.1\" 200 -\n"
     ]
    }
   ],
   "source": [
    "if __name__ == '__main__':\n",
    "    app.run(port=5000)"
   ]
  }
 ],
 "metadata": {
  "kernelspec": {
   "display_name": "Python 3",
   "language": "python",
   "name": "python3"
  },
  "language_info": {
   "codemirror_mode": {
    "name": "ipython",
    "version": 3
   },
   "file_extension": ".py",
   "mimetype": "text/x-python",
   "name": "python",
   "nbconvert_exporter": "python",
   "pygments_lexer": "ipython3",
   "version": "3.10.11"
  }
 },
 "nbformat": 4,
 "nbformat_minor": 2
}
