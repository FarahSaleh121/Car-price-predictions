{
 "cells": [
  {
   "cell_type": "code",
   "execution_count": 3,
   "metadata": {},
   "outputs": [],
   "source": [
    "import pandas as pd\n",
    "import numpy as np\n",
    "import re\n",
    "import pickle\n",
    "import matplotlib.pyplot as plt\n",
    "import seaborn as sns\n",
    "from scipy import stats\n",
    "from scipy.stats import iqr # for the outlier\n",
    "from sklearn.model_selection import train_test_split\n",
    "from sklearn.tree import DecisionTreeRegressor\n",
    "from sklearn.metrics import mean_squared_error\n",
    "from sklearn.impute import SimpleImputer\n",
    "import pickle\n",
    "from sklearn.preprocessing import MinMaxScaler\n",
    "from sklearn.feature_selection import SelectFromModel\n",
    "from sklearn.metrics import mean_squared_error, r2_score\n",
    "from sklearn.preprocessing import StandardScaler"
   ]
  },
  {
   "cell_type": "markdown",
   "metadata": {},
   "source": [
    "# read the DataFrame"
   ]
  },
  {
   "cell_type": "code",
   "execution_count": 4,
   "metadata": {},
   "outputs": [],
   "source": [
    "df=pd.read_csv(\"D:/MLproject/carsData1.csv\")"
   ]
  },
  {
   "cell_type": "code",
   "execution_count": 5,
   "metadata": {},
   "outputs": [
    {
     "data": {
      "text/html": [
       "<div>\n",
       "<style scoped>\n",
       "    .dataframe tbody tr th:only-of-type {\n",
       "        vertical-align: middle;\n",
       "    }\n",
       "\n",
       "    .dataframe tbody tr th {\n",
       "        vertical-align: top;\n",
       "    }\n",
       "\n",
       "    .dataframe thead th {\n",
       "        text-align: right;\n",
       "    }\n",
       "</style>\n",
       "<table border=\"1\" class=\"dataframe\">\n",
       "  <thead>\n",
       "    <tr style=\"text-align: right;\">\n",
       "      <th></th>\n",
       "      <th>لون السيارة</th>\n",
       "      <th>نوع الوقود</th>\n",
       "      <th>أصل السيارة</th>\n",
       "      <th>رخصة السيارة</th>\n",
       "      <th>نوع الجير</th>\n",
       "      <th>الزجاج</th>\n",
       "      <th>قوة الماتور</th>\n",
       "      <th>عداد السيارة</th>\n",
       "      <th>وسيلة الدفع</th>\n",
       "      <th>معروضة</th>\n",
       "      <th>...</th>\n",
       "      <th>leather_upholstery</th>\n",
       "      <th>air_cushion</th>\n",
       "      <th>magnesium_rims</th>\n",
       "      <th>sunroof</th>\n",
       "      <th>التكميلي (جسم المركبة)</th>\n",
       "      <th>طرف ثالث</th>\n",
       "      <th>المجموع</th>\n",
       "      <th>name_car</th>\n",
       "      <th>model_car</th>\n",
       "      <th>price_car</th>\n",
       "    </tr>\n",
       "  </thead>\n",
       "  <tbody>\n",
       "    <tr>\n",
       "      <th>0</th>\n",
       "      <td>أسود</td>\n",
       "      <td>بنزين</td>\n",
       "      <td>خصوصي</td>\n",
       "      <td>فلسطينية</td>\n",
       "      <td>اوتوماتيك</td>\n",
       "      <td>الكتروني</td>\n",
       "      <td>1600.0</td>\n",
       "      <td>١٨٣٠٠٠</td>\n",
       "      <td>إمكانية التقسيط</td>\n",
       "      <td>للبيع فقط</td>\n",
       "      <td>...</td>\n",
       "      <td>1.0</td>\n",
       "      <td>1.0</td>\n",
       "      <td>0.0</td>\n",
       "      <td>0.0</td>\n",
       "      <td>1340.0</td>\n",
       "      <td>1000.0</td>\n",
       "      <td>2340.0</td>\n",
       "      <td>كيا برايد</td>\n",
       "      <td>موديل سنة 2008</td>\n",
       "      <td>44000.0</td>\n",
       "    </tr>\n",
       "    <tr>\n",
       "      <th>1</th>\n",
       "      <td>فضي</td>\n",
       "      <td>بنزين</td>\n",
       "      <td>خصوصي</td>\n",
       "      <td>فلسطينية</td>\n",
       "      <td>اوتوماتيك</td>\n",
       "      <td>الكتروني</td>\n",
       "      <td>1400.0</td>\n",
       "      <td>42000</td>\n",
       "      <td>نقدا فقط</td>\n",
       "      <td>للبيع أو التبديل</td>\n",
       "      <td>...</td>\n",
       "      <td>1.0</td>\n",
       "      <td>1.0</td>\n",
       "      <td>1.0</td>\n",
       "      <td>0.0</td>\n",
       "      <td>1035.0</td>\n",
       "      <td>1016.0</td>\n",
       "      <td>2050.0</td>\n",
       "      <td>هونداي اكسنت</td>\n",
       "      <td>موديل سنة 2013</td>\n",
       "      <td>58000.0</td>\n",
       "    </tr>\n",
       "    <tr>\n",
       "      <th>2</th>\n",
       "      <td>أسود</td>\n",
       "      <td>بنزين</td>\n",
       "      <td>خصوصي</td>\n",
       "      <td>فلسطينية</td>\n",
       "      <td>نصف اوتوماتيك</td>\n",
       "      <td>الكتروني</td>\n",
       "      <td>2000.0</td>\n",
       "      <td>85000</td>\n",
       "      <td>إمكانية التقسيط</td>\n",
       "      <td>للبيع فقط</td>\n",
       "      <td>...</td>\n",
       "      <td>1.0</td>\n",
       "      <td>1.0</td>\n",
       "      <td>1.0</td>\n",
       "      <td>1.0</td>\n",
       "      <td>1340.0</td>\n",
       "      <td>1000.0</td>\n",
       "      <td>2340.0</td>\n",
       "      <td>بيجو 508</td>\n",
       "      <td>موديل سنة 2013</td>\n",
       "      <td>40000.0</td>\n",
       "    </tr>\n",
       "    <tr>\n",
       "      <th>3</th>\n",
       "      <td>أزرق</td>\n",
       "      <td>ديزل</td>\n",
       "      <td>خصوصي</td>\n",
       "      <td>فلسطينية</td>\n",
       "      <td>عادي</td>\n",
       "      <td>الكتروني</td>\n",
       "      <td>1900.0</td>\n",
       "      <td>30000</td>\n",
       "      <td>إمكانية التقسيط</td>\n",
       "      <td>للبيع أو التبديل</td>\n",
       "      <td>...</td>\n",
       "      <td>1.0</td>\n",
       "      <td>1.0</td>\n",
       "      <td>1.0</td>\n",
       "      <td>0.0</td>\n",
       "      <td>1340.0</td>\n",
       "      <td>1226.0</td>\n",
       "      <td>2565.0</td>\n",
       "      <td>سكودا اوكتافيا</td>\n",
       "      <td>موديل سنة 2010</td>\n",
       "      <td>70000.0</td>\n",
       "    </tr>\n",
       "    <tr>\n",
       "      <th>4</th>\n",
       "      <td>رصاصي</td>\n",
       "      <td>بنزين</td>\n",
       "      <td>خصوصي</td>\n",
       "      <td>فلسطينية</td>\n",
       "      <td>عادي</td>\n",
       "      <td>الكتروني</td>\n",
       "      <td>1600.0</td>\n",
       "      <td>NaN</td>\n",
       "      <td>نقدا فقط</td>\n",
       "      <td>للبيع فقط</td>\n",
       "      <td>...</td>\n",
       "      <td>0.0</td>\n",
       "      <td>1.0</td>\n",
       "      <td>1.0</td>\n",
       "      <td>0.0</td>\n",
       "      <td>670.0</td>\n",
       "      <td>500.0</td>\n",
       "      <td>1170.0</td>\n",
       "      <td>سوبارو امبريزا</td>\n",
       "      <td>موديل سنة 1999</td>\n",
       "      <td>33000.0</td>\n",
       "    </tr>\n",
       "    <tr>\n",
       "      <th>...</th>\n",
       "      <td>...</td>\n",
       "      <td>...</td>\n",
       "      <td>...</td>\n",
       "      <td>...</td>\n",
       "      <td>...</td>\n",
       "      <td>...</td>\n",
       "      <td>...</td>\n",
       "      <td>...</td>\n",
       "      <td>...</td>\n",
       "      <td>...</td>\n",
       "      <td>...</td>\n",
       "      <td>...</td>\n",
       "      <td>...</td>\n",
       "      <td>...</td>\n",
       "      <td>...</td>\n",
       "      <td>...</td>\n",
       "      <td>...</td>\n",
       "      <td>...</td>\n",
       "      <td>...</td>\n",
       "      <td>...</td>\n",
       "      <td>...</td>\n",
       "    </tr>\n",
       "    <tr>\n",
       "      <th>7772</th>\n",
       "      <td>NaN</td>\n",
       "      <td>NaN</td>\n",
       "      <td>NaN</td>\n",
       "      <td>NaN</td>\n",
       "      <td>NaN</td>\n",
       "      <td>NaN</td>\n",
       "      <td>NaN</td>\n",
       "      <td>NaN</td>\n",
       "      <td>NaN</td>\n",
       "      <td>NaN</td>\n",
       "      <td>...</td>\n",
       "      <td>NaN</td>\n",
       "      <td>NaN</td>\n",
       "      <td>NaN</td>\n",
       "      <td>NaN</td>\n",
       "      <td>NaN</td>\n",
       "      <td>NaN</td>\n",
       "      <td>NaN</td>\n",
       "      <td>فيات فيات 132</td>\n",
       "      <td>موديل سنة 1973</td>\n",
       "      <td>27000.0</td>\n",
       "    </tr>\n",
       "    <tr>\n",
       "      <th>7773</th>\n",
       "      <td>NaN</td>\n",
       "      <td>NaN</td>\n",
       "      <td>NaN</td>\n",
       "      <td>NaN</td>\n",
       "      <td>NaN</td>\n",
       "      <td>NaN</td>\n",
       "      <td>NaN</td>\n",
       "      <td>NaN</td>\n",
       "      <td>NaN</td>\n",
       "      <td>NaN</td>\n",
       "      <td>...</td>\n",
       "      <td>NaN</td>\n",
       "      <td>NaN</td>\n",
       "      <td>NaN</td>\n",
       "      <td>NaN</td>\n",
       "      <td>NaN</td>\n",
       "      <td>NaN</td>\n",
       "      <td>NaN</td>\n",
       "      <td>هونداي سانتافيه</td>\n",
       "      <td>موديل سنة 2016</td>\n",
       "      <td>117000.0</td>\n",
       "    </tr>\n",
       "    <tr>\n",
       "      <th>7774</th>\n",
       "      <td>NaN</td>\n",
       "      <td>NaN</td>\n",
       "      <td>NaN</td>\n",
       "      <td>NaN</td>\n",
       "      <td>NaN</td>\n",
       "      <td>NaN</td>\n",
       "      <td>NaN</td>\n",
       "      <td>NaN</td>\n",
       "      <td>NaN</td>\n",
       "      <td>NaN</td>\n",
       "      <td>...</td>\n",
       "      <td>NaN</td>\n",
       "      <td>NaN</td>\n",
       "      <td>NaN</td>\n",
       "      <td>NaN</td>\n",
       "      <td>NaN</td>\n",
       "      <td>NaN</td>\n",
       "      <td>NaN</td>\n",
       "      <td>هونداي اكسنت</td>\n",
       "      <td>موديل سنة 2017</td>\n",
       "      <td>67000.0</td>\n",
       "    </tr>\n",
       "    <tr>\n",
       "      <th>7775</th>\n",
       "      <td>NaN</td>\n",
       "      <td>NaN</td>\n",
       "      <td>NaN</td>\n",
       "      <td>NaN</td>\n",
       "      <td>NaN</td>\n",
       "      <td>NaN</td>\n",
       "      <td>NaN</td>\n",
       "      <td>NaN</td>\n",
       "      <td>NaN</td>\n",
       "      <td>NaN</td>\n",
       "      <td>...</td>\n",
       "      <td>NaN</td>\n",
       "      <td>NaN</td>\n",
       "      <td>NaN</td>\n",
       "      <td>NaN</td>\n",
       "      <td>NaN</td>\n",
       "      <td>NaN</td>\n",
       "      <td>NaN</td>\n",
       "      <td>سكودا فابيا</td>\n",
       "      <td>موديل سنة 2015</td>\n",
       "      <td>58000.0</td>\n",
       "    </tr>\n",
       "    <tr>\n",
       "      <th>7776</th>\n",
       "      <td>NaN</td>\n",
       "      <td>NaN</td>\n",
       "      <td>NaN</td>\n",
       "      <td>NaN</td>\n",
       "      <td>NaN</td>\n",
       "      <td>NaN</td>\n",
       "      <td>NaN</td>\n",
       "      <td>NaN</td>\n",
       "      <td>NaN</td>\n",
       "      <td>NaN</td>\n",
       "      <td>...</td>\n",
       "      <td>NaN</td>\n",
       "      <td>NaN</td>\n",
       "      <td>NaN</td>\n",
       "      <td>NaN</td>\n",
       "      <td>NaN</td>\n",
       "      <td>NaN</td>\n",
       "      <td>NaN</td>\n",
       "      <td>سيت ابيزا</td>\n",
       "      <td>موديل سنة 2016</td>\n",
       "      <td>65000.0</td>\n",
       "    </tr>\n",
       "  </tbody>\n",
       "</table>\n",
       "<p>7777 rows × 27 columns</p>\n",
       "</div>"
      ],
      "text/plain": [
       "     لون السيارة نوع الوقود أصل السيارة رخصة السيارة      نوع الجير    الزجاج  \\\n",
       "0           أسود      بنزين       خصوصي     فلسطينية      اوتوماتيك  الكتروني   \n",
       "1            فضي      بنزين       خصوصي     فلسطينية      اوتوماتيك  الكتروني   \n",
       "2           أسود      بنزين       خصوصي     فلسطينية  نصف اوتوماتيك  الكتروني   \n",
       "3           أزرق       ديزل       خصوصي     فلسطينية           عادي  الكتروني   \n",
       "4          رصاصي      بنزين       خصوصي     فلسطينية           عادي  الكتروني   \n",
       "...          ...        ...         ...          ...            ...       ...   \n",
       "7772         NaN        NaN         NaN          NaN            NaN       NaN   \n",
       "7773         NaN        NaN         NaN          NaN            NaN       NaN   \n",
       "7774         NaN        NaN         NaN          NaN            NaN       NaN   \n",
       "7775         NaN        NaN         NaN          NaN            NaN       NaN   \n",
       "7776         NaN        NaN         NaN          NaN            NaN       NaN   \n",
       "\n",
       "      قوة الماتور عداد السيارة      وسيلة الدفع            معروضة  ...  \\\n",
       "0          1600.0       ١٨٣٠٠٠  إمكانية التقسيط         للبيع فقط  ...   \n",
       "1          1400.0        42000         نقدا فقط  للبيع أو التبديل  ...   \n",
       "2          2000.0        85000  إمكانية التقسيط         للبيع فقط  ...   \n",
       "3          1900.0        30000  إمكانية التقسيط  للبيع أو التبديل  ...   \n",
       "4          1600.0          NaN         نقدا فقط         للبيع فقط  ...   \n",
       "...           ...          ...              ...               ...  ...   \n",
       "7772          NaN          NaN              NaN               NaN  ...   \n",
       "7773          NaN          NaN              NaN               NaN  ...   \n",
       "7774          NaN          NaN              NaN               NaN  ...   \n",
       "7775          NaN          NaN              NaN               NaN  ...   \n",
       "7776          NaN          NaN              NaN               NaN  ...   \n",
       "\n",
       "     leather_upholstery air_cushion magnesium_rims  sunroof  \\\n",
       "0                   1.0         1.0            0.0      0.0   \n",
       "1                   1.0         1.0            1.0      0.0   \n",
       "2                   1.0         1.0            1.0      1.0   \n",
       "3                   1.0         1.0            1.0      0.0   \n",
       "4                   0.0         1.0            1.0      0.0   \n",
       "...                 ...         ...            ...      ...   \n",
       "7772                NaN         NaN            NaN      NaN   \n",
       "7773                NaN         NaN            NaN      NaN   \n",
       "7774                NaN         NaN            NaN      NaN   \n",
       "7775                NaN         NaN            NaN      NaN   \n",
       "7776                NaN         NaN            NaN      NaN   \n",
       "\n",
       "      التكميلي (جسم المركبة)  طرف ثالث  المجموع         name_car  \\\n",
       "0                     1340.0    1000.0   2340.0        كيا برايد   \n",
       "1                     1035.0    1016.0   2050.0     هونداي اكسنت   \n",
       "2                     1340.0    1000.0   2340.0         بيجو 508   \n",
       "3                     1340.0    1226.0   2565.0   سكودا اوكتافيا   \n",
       "4                      670.0     500.0   1170.0   سوبارو امبريزا   \n",
       "...                      ...       ...      ...              ...   \n",
       "7772                     NaN       NaN      NaN    فيات فيات 132   \n",
       "7773                     NaN       NaN      NaN  هونداي سانتافيه   \n",
       "7774                     NaN       NaN      NaN     هونداي اكسنت   \n",
       "7775                     NaN       NaN      NaN      سكودا فابيا   \n",
       "7776                     NaN       NaN      NaN        سيت ابيزا   \n",
       "\n",
       "           model_car  price_car  \n",
       "0     موديل سنة 2008    44000.0  \n",
       "1     موديل سنة 2013    58000.0  \n",
       "2     موديل سنة 2013    40000.0  \n",
       "3     موديل سنة 2010    70000.0  \n",
       "4     موديل سنة 1999    33000.0  \n",
       "...              ...        ...  \n",
       "7772  موديل سنة 1973    27000.0  \n",
       "7773  موديل سنة 2016   117000.0  \n",
       "7774  موديل سنة 2017    67000.0  \n",
       "7775  موديل سنة 2015    58000.0  \n",
       "7776  موديل سنة 2016    65000.0  \n",
       "\n",
       "[7777 rows x 27 columns]"
      ]
     },
     "execution_count": 5,
     "metadata": {},
     "output_type": "execute_result"
    }
   ],
   "source": [
    "df"
   ]
  },
  {
   "cell_type": "markdown",
   "metadata": {},
   "source": [
    "# columns that contain NULL values"
   ]
  },
  {
   "cell_type": "code",
   "execution_count": 6,
   "metadata": {},
   "outputs": [
    {
     "data": {
      "text/plain": [
       "لون السيارة                913\n",
       "نوع الوقود                 913\n",
       "أصل السيارة                913\n",
       "رخصة السيارة               913\n",
       "نوع الجير                  913\n",
       "الزجاج                     913\n",
       "قوة الماتور                913\n",
       "عداد السيارة              2854\n",
       "وسيلة الدفع                913\n",
       "معروضة                     913\n",
       "أصحاب سابقون              2563\n",
       "عدد الركاب                1690\n",
       "الدفع                     6346\n",
       "air_conditioner            913\n",
       "central_closing            913\n",
       "alarm_devise               913\n",
       "CD_recorder                913\n",
       "leather_upholstery         913\n",
       "air_cushion                913\n",
       "magnesium_rims             913\n",
       "sunroof                    913\n",
       "التكميلي (جسم المركبة)     924\n",
       "طرف ثالث                   924\n",
       "المجموع                    924\n",
       "name_car                   913\n",
       "model_car                  913\n",
       "price_car                  913\n",
       "dtype: int64"
      ]
     },
     "execution_count": 6,
     "metadata": {},
     "output_type": "execute_result"
    }
   ],
   "source": [
    "df.isna().sum()"
   ]
  },
  {
   "cell_type": "markdown",
   "metadata": {},
   "source": [
    "# drop all 913 NULL "
   ]
  },
  {
   "cell_type": "code",
   "execution_count": 7,
   "metadata": {},
   "outputs": [],
   "source": [
    "# the NULL in name is same NULL samples in other columns \n",
    "df = df.dropna(subset=['name_car'])"
   ]
  },
  {
   "cell_type": "code",
   "execution_count": 8,
   "metadata": {},
   "outputs": [
    {
     "data": {
      "text/plain": [
       "لون السيارة                808\n",
       "نوع الوقود                 808\n",
       "أصل السيارة                808\n",
       "رخصة السيارة               808\n",
       "نوع الجير                  808\n",
       "الزجاج                     808\n",
       "قوة الماتور                808\n",
       "عداد السيارة              2519\n",
       "وسيلة الدفع                808\n",
       "معروضة                     808\n",
       "أصحاب سابقون              2262\n",
       "عدد الركاب                1482\n",
       "الدفع                     5606\n",
       "air_conditioner            808\n",
       "central_closing            808\n",
       "alarm_devise               808\n",
       "CD_recorder                808\n",
       "leather_upholstery         808\n",
       "air_cushion                808\n",
       "magnesium_rims             808\n",
       "sunroof                    808\n",
       "التكميلي (جسم المركبة)     815\n",
       "طرف ثالث                   815\n",
       "المجموع                    815\n",
       "name_car                     0\n",
       "model_car                    0\n",
       "price_car                    0\n",
       "dtype: int64"
      ]
     },
     "execution_count": 8,
     "metadata": {},
     "output_type": "execute_result"
    }
   ],
   "source": [
    "df.isna().sum()"
   ]
  },
  {
   "cell_type": "code",
   "execution_count": 9,
   "metadata": {},
   "outputs": [],
   "source": [
    "# 808 NULL drop\n",
    "# after it , we'll have 6864 samples left\n",
    "column_names = ['لون السيارة', 'نوع الوقود', 'أصل السيارة', 'رخصة السيارة', 'نوع الجير', 'الزجاج', 'قوة الماتور', 'عداد السيارة', 'وسيلة الدفع', 'معروضة', 'leather_upholstery', 'air_cushion', 'magnesium_rims', 'sunroof', 'طرف ثالث', 'التكميلي (جسم المركبة)', 'المجموع']\n",
    "df = df.dropna(subset=column_names, how='all')"
   ]
  },
  {
   "cell_type": "code",
   "execution_count": 10,
   "metadata": {},
   "outputs": [
    {
     "data": {
      "text/plain": [
       "لون السيارة                  0\n",
       "نوع الوقود                   0\n",
       "أصل السيارة                  0\n",
       "رخصة السيارة                 0\n",
       "نوع الجير                    0\n",
       "الزجاج                       0\n",
       "قوة الماتور                  0\n",
       "عداد السيارة              1711\n",
       "وسيلة الدفع                  0\n",
       "معروضة                       0\n",
       "أصحاب سابقون              1454\n",
       "عدد الركاب                 674\n",
       "الدفع                     4798\n",
       "air_conditioner              0\n",
       "central_closing              0\n",
       "alarm_devise                 0\n",
       "CD_recorder                  0\n",
       "leather_upholstery           0\n",
       "air_cushion                  0\n",
       "magnesium_rims               0\n",
       "sunroof                      0\n",
       "التكميلي (جسم المركبة)       7\n",
       "طرف ثالث                     7\n",
       "المجموع                      7\n",
       "name_car                     0\n",
       "model_car                    0\n",
       "price_car                    0\n",
       "dtype: int64"
      ]
     },
     "execution_count": 10,
     "metadata": {},
     "output_type": "execute_result"
    }
   ],
   "source": [
    "df.isna().sum()"
   ]
  },
  {
   "cell_type": "code",
   "execution_count": 11,
   "metadata": {},
   "outputs": [],
   "source": [
    "# if name model and price is null , then drop the sample \n",
    "# after it , we'll have 6056 samples left\n",
    "column_names=['model_car', 'name_car',\"price_car\"]\n",
    "df = df.dropna(subset=column_names, how='all')"
   ]
  },
  {
   "cell_type": "code",
   "execution_count": 12,
   "metadata": {},
   "outputs": [
    {
     "name": "stdout",
     "output_type": "stream",
     "text": [
      "The percentage of null values in الدفع is: 79.23% and this as a high percentage of missing values\n"
     ]
    }
   ],
   "source": [
    "null_percentage = (df['الدفع'].isnull().sum() / len(df)) * 100\n",
    "print(f\"The percentage of null values in الدفع is: {null_percentage:.2f}% and this as a high percentage of missing values\")"
   ]
  },
  {
   "cell_type": "code",
   "execution_count": 13,
   "metadata": {},
   "outputs": [],
   "source": [
    "df=df.drop('الدفع',axis=1)"
   ]
  },
  {
   "cell_type": "code",
   "execution_count": 14,
   "metadata": {},
   "outputs": [],
   "source": [
    "# We will not use the following columns in training the model : \n",
    "df=df.drop('لون السيارة',axis=1)\n",
    "df=df.drop('عداد السيارة',axis=1)\n",
    "df=df.drop('معروضة',axis=1)\n",
    "df=df.drop('alarm_devise',axis=1)\n",
    "df=df.drop('air_cushion',axis=1)\n",
    "df=df.drop('central_closing',axis=1)\n",
    "df=df.drop('leather_upholstery',axis=1)\n",
    "df=df.drop('CD_recorder',axis=1)\n",
    "df=df.drop('air_conditioner',axis=1)"
   ]
  },
  {
   "cell_type": "markdown",
   "metadata": {},
   "source": [
    "### remove outliers from Model :"
   ]
  },
  {
   "cell_type": "code",
   "execution_count": 15,
   "metadata": {},
   "outputs": [],
   "source": [
    "column_name = 'model_car'\n",
    "# Extract numerical values using regular expressions\n",
    "df[column_name] = df[column_name].str.extract('(\\d+)', expand=False)\n",
    "# Convert the extracted values to numeric, handling errors and NaN values\n",
    "df[column_name] = pd.to_numeric(df[column_name], errors='coerce', downcast='integer')\n",
    "# Convert the numeric values to integers\n",
    "df[column_name] = df[column_name].astype('Int64')"
   ]
  },
  {
   "cell_type": "code",
   "execution_count": 16,
   "metadata": {},
   "outputs": [
    {
     "data": {
      "text/plain": [
       "count        6056.0\n",
       "mean     2008.70426\n",
       "std        8.607808\n",
       "min          1968.0\n",
       "25%          2005.0\n",
       "50%          2011.0\n",
       "75%          2015.0\n",
       "max          2022.0\n",
       "Name: model_car, dtype: Float64"
      ]
     },
     "execution_count": 16,
     "metadata": {},
     "output_type": "execute_result"
    }
   ],
   "source": [
    "df['model_car'].describe()"
   ]
  },
  {
   "cell_type": "code",
   "execution_count": 17,
   "metadata": {},
   "outputs": [
    {
     "name": "stdout",
     "output_type": "stream",
     "text": [
      "Percentage of Outliers: 5.58%\n"
     ]
    }
   ],
   "source": [
    "column_name = 'model_car'\n",
    "# Convert the 'model_car' column to numeric, handling errors by coercing them to NaN\n",
    "df[column_name] = pd.to_numeric(df[column_name], errors='coerce')\n",
    "\n",
    "# Calculate the interquartile range (IQR)\n",
    "Q1 = df[column_name].quantile(0.25)\n",
    "Q3 = df[column_name].quantile(0.75)\n",
    "iqr_value = Q3 - Q1\n",
    "\n",
    "# Set a multiplier for the IQR to define the outlier threshold\n",
    "threshold_multiplier = 1.5\n",
    "\n",
    "# Calculate the lower and upper bounds for outliers\n",
    "lower_bound = Q1 - threshold_multiplier * iqr_value\n",
    "upper_bound = Q3 + threshold_multiplier * iqr_value\n",
    "\n",
    "# Identify outliers using the calculated bounds\n",
    "outliers = (df[column_name] < lower_bound) | (df[column_name] > upper_bound)\n",
    "\n",
    "# Calculate the percentage of outliers\n",
    "percentage_outliers = np.sum(outliers) / len(df[column_name]) * 100\n",
    "\n",
    "print(f\"Percentage of Outliers: {percentage_outliers:.2f}%\")"
   ]
  },
  {
   "cell_type": "code",
   "execution_count": 18,
   "metadata": {},
   "outputs": [
    {
     "name": "stdout",
     "output_type": "stream",
     "text": [
      "Percentage of Outliers Removed: 0.00%\n"
     ]
    }
   ],
   "source": [
    "# Identify and remove outliers from the DataFrame\n",
    "df = df[(df[column_name] >= lower_bound) & (df[column_name] <= upper_bound)]\n",
    "\n",
    "# the percentage of outliers removed\n",
    "percentage_outliers_removed = 100 - (len(df) / len(df[column_name]) * 100)\n",
    "print(f\"Percentage of Outliers Removed: {percentage_outliers_removed:.2f}%\")"
   ]
  },
  {
   "cell_type": "code",
   "execution_count": 19,
   "metadata": {},
   "outputs": [
    {
     "data": {
      "text/plain": [
       "count         5718.0\n",
       "mean     2010.139384\n",
       "std          6.40483\n",
       "min           1990.0\n",
       "25%           2006.0\n",
       "50%           2011.0\n",
       "75%           2015.0\n",
       "max           2022.0\n",
       "Name: model_car, dtype: Float64"
      ]
     },
     "execution_count": 19,
     "metadata": {},
     "output_type": "execute_result"
    }
   ],
   "source": [
    "df['model_car'].describe()\n",
    "# less std , count\n",
    "# min now is 1990\n",
    "# mean now is 2010"
   ]
  },
  {
   "cell_type": "markdown",
   "metadata": {},
   "source": [
    "### edit اصحاب سابقون and fill the NULL : "
   ]
  },
  {
   "cell_type": "code",
   "execution_count": 20,
   "metadata": {},
   "outputs": [
    {
     "data": {
      "text/plain": [
       "array(['يد اولى', 'يد ثانيه', '3', nan, 'ثالثه', '٤', '6', 'يد ثانية',\n",
       "       '٢', 'اولى', '0', 'يد 5', '11', '2', 'ثانية', 'يد ثالثة', 'يد 2',\n",
       "       'يد تانيه', '1', 'يد أولى', 'يد٢', '٣', 'ايد اولى', 'يد 0',\n",
       "       'يد ثالثه', '---', 'ايد ثانيه', '000', '5', '،',\n",
       "       'يد أولئ أصحاب سابقون صفر', 'ايد ثانية', '١', 'يد اولي',\n",
       "       'يد رابعه', 'تانبه', '4', '03', 'يد تانية', '٥', 'أستيراد ألماني',\n",
       "       'يد اولى الماني', '00', '9', 'يد 8', '7',\n",
       "       'استيراد مباشر من اوروبا', 'يد عاشرة', 'يد خامساً', 'صفر', 'ثالثة',\n",
       "       'يد اوله', 'اربعة', 'يد صفر', '00000000', 'مستوردة غير منمرة',\n",
       "       '10', 'يد تالته', 'مستورد', '000000', '8', 'مستوردة يد اولى',\n",
       "       'مستوردة غير مرخصة', 'أولى', 'يد 3', 'استيراد مباشر', '.', 'تانيه',\n",
       "       'يد 4', 'يداولى', 'غير منمرمستوردة', 'E', '1000', 'صفرر',\n",
       "       'مش منمرة', 'يد خامسه', 'خصوصي', 'خامسة', 'ثانيه', 'يد ٢', 'رابعه',\n",
       "       'يدثانية', 'يد اةلي', '0000', '٠٠', 'يد أولئ', 'مش منمر',\n",
       "       'يد ثالث', 'استراد شخصي', 'يدثالثة', 'استيراد الماني', 'يد خامسة',\n",
       "       'يد اولا', 'يد رابعة', '٦', 'يد واحد', 'غير منمر استيراد الماني',\n",
       "       '11111', 'ثاني', 'مستوردة', '**********', '١٧', 'يد ٣', '-',\n",
       "       'رابعة', '٠٠٠٠٠', 'يد اولى صفر كيلو', 'يد اربعه', '٠', '12',\n",
       "       'خامسه', 'ايد رابعه', '٧', '00000', 'يد التالته', '٨', '١١',\n",
       "       'غير منمرة', '١٢', 'غير منمره', 'غير منمر', 'تالثه', 'ثالثى',\n",
       "       'ايد 2', 'يد ١', 'تالته', '15', 'وارد المانيا', '0000000',\n",
       "       'سحب شركة', '4 نفس الشخص', 'اثنان', '١٠', 'يد اول',\n",
       "       'مستورده يد اولى', 'يد ثاني.', '18', 'مش منمره', '......', '١٨',\n",
       "       'يد اولى ( شركة )', '?', 'اولى\\x89', 'يد اولى وكالة', 'اول',\n",
       "       'يد 6', '...', 'ياولى', 'يد ٤', 'استيراد مباشر من كوريا',\n",
       "       'يد سادسة', '٠٠٠٠٠٠٠٠٠', 'يد عاشره', 'يدو اولى', '؟', 'ايدثانيه',\n",
       "       'مستورده', 'يد اولئ', 'سابعه', 'يد اولىً', 'للبيع', 'يد ٥',\n",
       "       'يد ١٧', '2يد', '١٥', 'يد ا', 'يد ثاني', 'منمره',\n",
       "       'اصحاب سابقون صفر', 'اشخاص', 'يد ثامنه', 'يدثالثه', 'اولا',\n",
       "       'يدثانيه', 'يدأولى', 'واحد', '0778244', 'استيراد كوريا', 'لا شيء',\n",
       "       'يداولا', '159000', 'يد سابعه', '******', '12345', 'ايد اوله',\n",
       "       'يد تاني', '78888877766', 'يدى اوله', 'بد اولى مستورد', 'لا يوجد',\n",
       "       'يد أولى استيراد', '..', 'خمسة', 'ايد ثالثه', 'يداولى سحب شركه',\n",
       "       '123423', 'يد ثانيا', '01', 'يد اولى اصحاب سابقون 0',\n",
       "       'يد اولى  اصل شركة', 'ايد أولى',\n",
       "       'من الشركه مباشر لا يوجد اصحاب سابقون',\n",
       "       'استيراد كوريا - جديد مش منمر', '.........', 'وارد كوريا يد اولى',\n",
       "       'يد اولة', '@', 'خمس', 'انا', 'يد واله', 'يد ولى', '04', '0مستورد',\n",
       "       'Zero', 'يد  ثانية', ',3', 'يد خمسة', '٩', 'يد', 'يد ثاتيه',\n",
       "       'يد تاسعة', 'شطب', '14', '0 استيراد كوري', 'يد اولي 1', '170000',\n",
       "       'اصل تدريب سواقه', '٠٠٠٠', '٠٠٠٠٠٠', '1 أولى', 'الثانية',\n",
       "       'يد أولى بعد الاستيراد', 'يد اولى استيراد شخصي', 'يد ولا',\n",
       "       'يد أولى،...', '0 مستورده', 'يد6', 'يد سابعة', 'اوله',\n",
       "       'مش منمر . (صفر)', 'استراد', '19', '٤٤٤٤٤', 'يد٤', 'مش منمرا',\n",
       "       'يديانيه', '٠٠٠٠٩', 'فقط يد اولى', 'يد اولى / استيراد', '13',\n",
       "       'خمسه', '....', 'ايد 3', 'عدد٣', 'Ooo', 'لايوجد', 'يد أولي',\n",
       "       'اصل شركة', 'مشطوب', 'استيراد', 'يد اولى شركة', 'يد 1', 'يد ثني',\n",
       "       'استيراد المانيا', 'ثمانيه', 'استيراد كوري', 'يد ٧', 'أيد تانية',\n",
       "       'يد ٩', 'يد٥', '16', 'تاني', 'مستود غير منمر', 'يد أولى وكالة',\n",
       "       'ثانبه', 'يد أولى 1', '٠٠٠٠٠٠٠٠'], dtype=object)"
      ]
     },
     "execution_count": 20,
     "metadata": {},
     "output_type": "execute_result"
    }
   ],
   "source": [
    "df['أصحاب سابقون'].unique()"
   ]
  },
  {
   "cell_type": "code",
   "execution_count": 21,
   "metadata": {},
   "outputs": [],
   "source": [
    "df['أصحاب سابقون'] = df['أصحاب سابقون'].astype(str)\n",
    "pattern = r'^[a-zA-Z0-9\\s\\u0600-\\u06FF]+$'\n",
    "df = df[df['أصحاب سابقون'].str.contains(pattern, na=False)]"
   ]
  },
  {
   "cell_type": "code",
   "execution_count": 22,
   "metadata": {},
   "outputs": [],
   "source": [
    "minus = df['أصحاب سابقون'].str.contains('شط', na=False)\n",
    "df.loc[minus,'أصحاب سابقون'] = '-1'\n",
    "new = df['أصحاب سابقون'].str.contains('٠|Zero|00|O|0', na=False)\n",
    "df.loc[new, 'أصحاب سابقون'] = '0'\n",
    "first = df['أصحاب سابقون'].str.contains('١|صفر|ست|ا|وال|ول|1|منم', na=False)\n",
    "df.loc[first, 'أصحاب سابقون'] = '1'\n",
    "sec = df['أصحاب سابقون'].str.contains('تان|ثان|٢|2|ثن', case=False, na=False)\n",
    "df.loc[sec, 'أصحاب سابقون'] = '2'\n",
    "third = df['أصحاب سابقون'].str.contains('3|٣', case=False, na=False)\n",
    "df.loc[third, 'أصحاب سابقون'] = '3'\n",
    "four = df['أصحاب سابقون'].str.contains('4|٤', case=False, na=False)\n",
    "df.loc[four, 'أصحاب سابقون'] = '4'\n",
    "five = df['أصحاب سابقون'].str.contains('خمس|٥|5', case=False, na=False)\n",
    "df.loc[five, 'أصحاب سابقون'] = '5'\n",
    "sixth = df['أصحاب سابقون'].str.contains('6|٦', case=False, na=False)\n",
    "df.loc[sixth, 'أصحاب سابقون'] = '6'\n",
    "seven = df['أصحاب سابقون'].str.contains('7|٧', case=False, na=False)\n",
    "df.loc[seven, 'أصحاب سابقون'] = '7'\n",
    "eight = df['أصحاب سابقون'].str.contains('8|٨', case=False, na=False)\n",
    "df.loc[eight, 'أصحاب سابقون'] = '8'\n",
    "nine = df['أصحاب سابقون'].str.contains('9|٩', case=False, na=False)\n",
    "df.loc[nine, 'أصحاب سابقون'] = '9'"
   ]
  },
  {
   "cell_type": "code",
   "execution_count": 23,
   "metadata": {},
   "outputs": [],
   "source": [
    "values_to_remove = ['خصوصي', 'يد', 'للبيع', 'سحب شركة', 'E', '؟', '،','نعم']\n",
    "df['أصحاب سابقون'] = df['أصحاب سابقون'][~df['أصحاب سابقون'].isin(values_to_remove)]"
   ]
  },
  {
   "cell_type": "code",
   "execution_count": 24,
   "metadata": {},
   "outputs": [
    {
     "data": {
      "text/plain": [
       "array(['1', '3', 'nan', '4', '6', '2', '0', '5', nan, '9', '8', '7'],\n",
       "      dtype=object)"
      ]
     },
     "execution_count": 24,
     "metadata": {},
     "output_type": "execute_result"
    }
   ],
   "source": [
    "df['أصحاب سابقون'].unique()"
   ]
  },
  {
   "cell_type": "code",
   "execution_count": 25,
   "metadata": {},
   "outputs": [],
   "source": [
    "df['أصحاب سابقون'] = df['أصحاب سابقون'].replace('nan', np.nan)\n",
    "df['أصحاب سابقون'] = pd.to_numeric(df['أصحاب سابقون'], errors='coerce').astype('Int64')"
   ]
  },
  {
   "cell_type": "code",
   "execution_count": 26,
   "metadata": {},
   "outputs": [
    {
     "data": {
      "text/plain": [
       "1363"
      ]
     },
     "execution_count": 26,
     "metadata": {},
     "output_type": "execute_result"
    }
   ],
   "source": [
    "df['أصحاب سابقون'].isna().sum()"
   ]
  },
  {
   "cell_type": "code",
   "execution_count": 27,
   "metadata": {},
   "outputs": [],
   "source": [
    "new_column_names = {'name_car':'Name', 'model_car':'Model','price_car':'Price',\n",
    "                    'عدد الركاب':'Number Of Passengers','رخصة السيارة':'driving license',\n",
    "                   'نوع الوقود':'Fuel type','أصل السيارة':'license type','نوع الجير':'Gear type',\n",
    "                   'الزجاج':'Glass','قوة الماتور':'Motor power','وسيلة الدفع':'Payment method',\n",
    "                    'أصحاب سابقون':'Previous owners','التكميلي (جسم المركبة)':'vehicle body','طرف ثالث':'third party',\n",
    "                     'المجموع':'Sum'}\n",
    "df.rename(columns=new_column_names, inplace=True)"
   ]
  },
  {
   "cell_type": "markdown",
   "metadata": {},
   "source": [
    "##### dicision tree model to predict the missing values in اصحاب سابقون to fill the NULL\n",
    "###### used dicision tree because the relation is non-linear"
   ]
  },
  {
   "cell_type": "code",
   "execution_count": 28,
   "metadata": {},
   "outputs": [],
   "source": [
    "columns_to_train = ['Model', 'Price', 'Motor power','Previous owners']\n",
    "df_owners = df[columns_to_train]\n",
    "\n",
    "# Drop rows with missing values in any of the selected columns\n",
    "df_owners =df_owners.dropna(subset=columns_to_train, how='any')\n",
    "# Split the data into features (X) and target variable (y)\n",
    "X = df_owners[['Model', 'Price', 'Motor power']]\n",
    "y = df_owners['Previous owners']\n",
    "\n",
    "# Split the data into training and testing sets\n",
    "X_train, X_test, y_train, y_test = train_test_split(X, y, test_size=0.30, random_state=42)\n",
    "\n",
    "owners_model =DecisionTreeRegressor(random_state=42)\n",
    "owners_model.fit(X_train, y_train)\n",
    "\n",
    "# Make predictions on the test set\n",
    "predicted_values = owners_model.predict(X_test)"
   ]
  },
  {
   "cell_type": "code",
   "execution_count": 29,
   "metadata": {},
   "outputs": [
    {
     "data": {
      "text/plain": [
       "array([0., 4., 1., ..., 3., 1., 1.])"
      ]
     },
     "execution_count": 29,
     "metadata": {},
     "output_type": "execute_result"
    }
   ],
   "source": [
    "predicted_values"
   ]
  },
  {
   "cell_type": "code",
   "execution_count": 30,
   "metadata": {},
   "outputs": [],
   "source": [
    "# Filter out rows with null values for prediction\n",
    "df_to_predict_owners = df[df['Previous owners'].isnull()]\n",
    "X_to_predict_owners = df_to_predict_owners[['Model', 'Price', 'Motor power']]\n",
    "\n",
    "# Create a SimpleImputer and fit it on the training data\n",
    "owners_imputer = SimpleImputer()\n",
    "owners_imputer.fit(X)\n",
    "\n",
    "# Impute missing values in the prediction data using the same imputer\n",
    "X_to_predict_imputed = owners_imputer.transform(X_to_predict_owners)\n",
    "\n",
    "# Make predictions on the samples with null 'Previous owners' using owners_model\n",
    "predicted_values_owners = owners_model.predict(X_to_predict_owners)\n",
    "\n",
    "# Fill the null values in the original dataframe with the predicted values using owners_model\n",
    "df.loc[df['Previous owners'].isnull(), 'Previous owners'] = predicted_values_owners.astype('int64')"
   ]
  },
  {
   "cell_type": "code",
   "execution_count": 31,
   "metadata": {},
   "outputs": [],
   "source": [
    "with open('owners_imputer.pkl', 'wb') as imputer_file:\n",
    "    pickle.dump(owners_imputer, imputer_file)"
   ]
  },
  {
   "cell_type": "code",
   "execution_count": 32,
   "metadata": {},
   "outputs": [],
   "source": [
    "with open('owners_prediction_model.pkl', 'wb') as model_file:\n",
    "    pickle.dump(owners_model,model_file)"
   ]
  },
  {
   "cell_type": "code",
   "execution_count": 33,
   "metadata": {},
   "outputs": [
    {
     "data": {
      "image/png": "[encoded data removed]",
      "text/plain": [
       "<Figure size 800x600 with 1 Axes>"
      ]
     },
     "metadata": {},
     "output_type": "display_data"
    }
   ],
   "source": [
    "df_subset = df[['Price', 'Previous owners']]\n",
    "plt.figure(figsize=(8, 6))\n",
    "sns.scatterplot(x='Previous owners', y='Price', data=df_subset)\n",
    "plt.title(\"Scatter plot between Previous owners and Price \")\n",
    "plt.show()"
   ]
  },
  {
   "cell_type": "markdown",
   "metadata": {},
   "source": [
    "### normalize Motor power and remove outliers : "
   ]
  },
  {
   "cell_type": "code",
   "execution_count": 34,
   "metadata": {},
   "outputs": [],
   "source": [
    "# Identify outliers using the IQR method\n",
    "Q1_motor = df['Motor power'].quantile(0.25)\n",
    "Q3_motor = df['Motor power'].quantile(0.75)\n",
    "IQR_motor = Q3_motor - Q1_motor\n",
    "\n",
    "outliers_motor = (df['Motor power'] < (Q1_motor - 1.5 * IQR_motor)) | (df['Motor power'] > (Q3_motor + 1.5 * IQR_motor))\n",
    "\n",
    "# Replace outliers with the median\n",
    "median_value = df['Motor power'].median()\n",
    "df.loc[outliers_motor, 'Motor power'] = median_value"
   ]
  },
  {
   "cell_type": "code",
   "execution_count": 35,
   "metadata": {},
   "outputs": [
    {
     "data": {
      "text/plain": [
       "count    5690.000000\n",
       "mean     1681.327944\n",
       "std       353.831557\n",
       "min       500.000000\n",
       "25%      1400.000000\n",
       "50%      1600.000000\n",
       "75%      2000.000000\n",
       "max      2900.000000\n",
       "Name: Motor power, dtype: float64"
      ]
     },
     "execution_count": 35,
     "metadata": {},
     "output_type": "execute_result"
    }
   ],
   "source": [
    "df['Motor power'].describe()"
   ]
  },
  {
   "cell_type": "code",
   "execution_count": 36,
   "metadata": {},
   "outputs": [],
   "source": [
    "motor_scaler = MinMaxScaler()\n",
    "df['scaled_motor_power'] = motor_scaler.fit_transform(df[['Motor power']])"
   ]
  },
  {
   "cell_type": "code",
   "execution_count": 37,
   "metadata": {},
   "outputs": [],
   "source": [
    "with open('motor_scaler.pkl', 'wb') as scaler_file:\n",
    "    pickle.dump(motor_scaler, scaler_file)"
   ]
  },
  {
   "cell_type": "code",
   "execution_count": 38,
   "metadata": {},
   "outputs": [
    {
     "data": {
      "text/plain": [
       "count    5690.000000\n",
       "mean        0.492220\n",
       "std         0.147430\n",
       "min         0.000000\n",
       "25%         0.375000\n",
       "50%         0.458333\n",
       "75%         0.625000\n",
       "max         1.000000\n",
       "Name: scaled_motor_power, dtype: float64"
      ]
     },
     "execution_count": 38,
     "metadata": {},
     "output_type": "execute_result"
    }
   ],
   "source": [
    "df['scaled_motor_power'].describe()"
   ]
  },
  {
   "cell_type": "markdown",
   "metadata": {},
   "source": [
    "### edit عدد الركاب and fill the NULL : "
   ]
  },
  {
   "cell_type": "code",
   "execution_count": 39,
   "metadata": {},
   "outputs": [
    {
     "data": {
      "text/plain": [
       "array([nan, '4+1', '4+١', '2', '8+1', '1+2', '6+1', '5+1', '7+1', '3+1',\n",
       "       '2+1', '٤+١', '1+1', 'اكثر من 10', '٧+١', '٧', '6x1', '1', '9+1',\n",
       "       '1+7', '6+١', '7.1', '١+٤', '8', '٦+١', '7,+ 1', '6±١', '7 =1',\n",
       "       'مثال: 4 + 1', '٨+١', '٧+1', '1٠4', '22', '4\\\\١', '1+٤', '4+2',\n",
       "       '5+2', '2/1'], dtype=object)"
      ]
     },
     "execution_count": 39,
     "metadata": {},
     "output_type": "execute_result"
    }
   ],
   "source": [
    "df['Number Of Passengers'].unique()"
   ]
  },
  {
   "cell_type": "code",
   "execution_count": 40,
   "metadata": {},
   "outputs": [],
   "source": [
    "# 1+3 i want to convert it into 4 \n",
    "\n",
    "def arabic_to_english(arabic_number):\n",
    "    arabic_to_english_dict = {'٠': '0', '١': '1', '٢': '2', '٣': '3', '٤': '4',\n",
    "                              '٥': '5', '٦': '6', '٧': '7', '٨': '8', '٩': '9'}\n",
    "    return ''.join(arabic_to_english_dict.get(digit, digit) for digit in arabic_number)\n",
    "\n",
    "def convert_and_sum(row):\n",
    "    if pd.notna(row) and '+' in row:\n",
    "        try:\n",
    "            return sum(int(arabic_to_english(digit)) for digit in re.split('\\+|\\\\s+', row))\n",
    "        except ValueError:\n",
    "            return np.nan\n",
    "    elif pd.notna(row):\n",
    "        try:\n",
    "            return int(arabic_to_english(str(row)))\n",
    "        except ValueError:\n",
    "            return np.nan\n",
    "    else:\n",
    "        return np.nan\n",
    "\n",
    "\n",
    "df['Number Of Passengers'] = df['Number Of Passengers'].apply(convert_and_sum)\n"
   ]
  },
  {
   "cell_type": "code",
   "execution_count": 41,
   "metadata": {},
   "outputs": [
    {
     "data": {
      "text/plain": [
       "array([ nan,   5.,   2.,   9.,   3.,   7.,   6.,   8.,   4.,   1.,  10.,\n",
       "       104.,  22.])"
      ]
     },
     "execution_count": 41,
     "metadata": {},
     "output_type": "execute_result"
    }
   ],
   "source": [
    "df['Number Of Passengers'].unique()"
   ]
  },
  {
   "cell_type": "code",
   "execution_count": 42,
   "metadata": {},
   "outputs": [],
   "source": [
    "columns_to_train_passengers = ['Model', 'Price', 'Motor power', 'third party', 'vehicle body', 'Number Of Passengers']\n",
    "df_passengers = df[columns_to_train_passengers]\n",
    "\n",
    "# Drop rows with missing values in any of the selected columns\n",
    "df_passengers = df_passengers.dropna(subset=columns_to_train_passengers, how='any')\n",
    "\n",
    "# Split the data into features (X) and target variable (y)\n",
    "X_passengers = df_passengers[['Model', 'Price', 'Motor power', 'third party', 'vehicle body']]\n",
    "y_passengers = df_passengers['Number Of Passengers']\n",
    "\n",
    "# Split the data into training and testing sets\n",
    "X_train_passengers, X_test_passengers, y_train_passengers, y_test_passengers = train_test_split(X_passengers, y_passengers, test_size=0.1, random_state=42)\n",
    "\n",
    "passenger_prediction_model =DecisionTreeRegressor(random_state=42)\n",
    "passenger_prediction_model.fit(X_train_passengers, y_train_passengers)\n",
    "\n",
    "# Make predictions on the test set\n",
    "passengers_predicted_values = passenger_prediction_model.predict(X_test_passengers)"
   ]
  },
  {
   "cell_type": "code",
   "execution_count": 43,
   "metadata": {},
   "outputs": [
    {
     "name": "stderr",
     "output_type": "stream",
     "text": [
      "c:\\Users\\Rahhal AbuZahra\\AppData\\Local\\Programs\\Python\\Python310\\lib\\site-packages\\sklearn\\base.py:465: UserWarning: X does not have valid feature names, but DecisionTreeRegressor was fitted with feature names\n",
      "  warnings.warn(\n"
     ]
    }
   ],
   "source": [
    "# Filter out rows with null values in 'Number Of Passengers' for prediction\n",
    "df_to_predict_passengers = df[df['Number Of Passengers'].isnull()]\n",
    "X_to_predict_passengers = df_to_predict_passengers[['Model', 'Price', 'Motor power', 'third party', 'vehicle body']]\n",
    "\n",
    "# Create a SimpleImputer and fit it on the training data\n",
    "passenger_imputer = SimpleImputer()\n",
    "passenger_imputer.fit(X_passengers)\n",
    "\n",
    "# Impute missing values in the prediction data using the same imputer\n",
    "X_to_predict_passenger_imputed = passenger_imputer.transform(X_to_predict_passengers)\n",
    "\n",
    "# Make predictions on the samples with null 'Number Of Passengers' using passenger_prediction_model\n",
    "predicted_values_passenger = passenger_prediction_model.predict(X_to_predict_passenger_imputed)\n",
    "\n",
    "# Fill the null values in the original dataframe with the predicted values using passenger_prediction_model\n",
    "df.loc[df['Number Of Passengers'].isnull(), 'Number Of Passengers'] = predicted_values_passenger"
   ]
  },
  {
   "cell_type": "code",
   "execution_count": 44,
   "metadata": {},
   "outputs": [],
   "source": [
    "with open('passenger_prediction_model.pkl', 'wb') as model_file:\n",
    "    pickle.dump(passenger_prediction_model,model_file)"
   ]
  },
  {
   "cell_type": "code",
   "execution_count": 45,
   "metadata": {},
   "outputs": [],
   "source": [
    "with open('passenger_imputer.pkl', 'wb') as imputer_file:\n",
    "    pickle.dump(passenger_imputer, imputer_file)"
   ]
  },
  {
   "cell_type": "code",
   "execution_count": 46,
   "metadata": {},
   "outputs": [],
   "source": [
    "df['Number Of Passengers'] = df['Number Of Passengers'].round().astype(int)"
   ]
  },
  {
   "cell_type": "code",
   "execution_count": 47,
   "metadata": {},
   "outputs": [
    {
     "data": {
      "text/plain": [
       "Fuel type               0\n",
       "license type            0\n",
       "driving license         0\n",
       "Gear type               0\n",
       "Glass                   0\n",
       "Motor power             0\n",
       "Payment method          0\n",
       "Previous owners         0\n",
       "Number Of Passengers    0\n",
       "magnesium_rims          0\n",
       "sunroof                 0\n",
       "vehicle body            7\n",
       "third party             7\n",
       "Sum                     7\n",
       "Name                    0\n",
       "Model                   0\n",
       "Price                   0\n",
       "scaled_motor_power      0\n",
       "dtype: int64"
      ]
     },
     "execution_count": 47,
     "metadata": {},
     "output_type": "execute_result"
    }
   ],
   "source": [
    "df.isna().sum()"
   ]
  },
  {
   "cell_type": "code",
   "execution_count": 48,
   "metadata": {},
   "outputs": [
    {
     "data": {
      "text/plain": [
       "count    5690.000000\n",
       "mean        5.271002\n",
       "std         1.641874\n",
       "min         1.000000\n",
       "25%         5.000000\n",
       "50%         5.000000\n",
       "75%         5.000000\n",
       "max       104.000000\n",
       "Name: Number Of Passengers, dtype: float64"
      ]
     },
     "execution_count": 48,
     "metadata": {},
     "output_type": "execute_result"
    }
   ],
   "source": [
    "df['Number Of Passengers'].describe()"
   ]
  },
  {
   "cell_type": "code",
   "execution_count": 49,
   "metadata": {},
   "outputs": [
    {
     "data": {
      "text/plain": [
       "array([  5,   7,   2,   9,   3,   6,   8,   4,   1,  10,  22, 104])"
      ]
     },
     "execution_count": 49,
     "metadata": {},
     "output_type": "execute_result"
    }
   ],
   "source": [
    "df['Number Of Passengers'].unique()"
   ]
  },
  {
   "cell_type": "code",
   "execution_count": 50,
   "metadata": {},
   "outputs": [],
   "source": [
    "df['Number Of Passengers'].replace(104,5, inplace=True)\n",
    "df['Number Of Passengers'].replace(22,5, inplace=True)"
   ]
  },
  {
   "cell_type": "code",
   "execution_count": 51,
   "metadata": {},
   "outputs": [
    {
     "data": {
      "text/plain": [
       "count    5690.000000\n",
       "mean        5.247627\n",
       "std         0.939934\n",
       "min         1.000000\n",
       "25%         5.000000\n",
       "50%         5.000000\n",
       "75%         5.000000\n",
       "max        10.000000\n",
       "Name: Number Of Passengers, dtype: float64"
      ]
     },
     "execution_count": 51,
     "metadata": {},
     "output_type": "execute_result"
    }
   ],
   "source": [
    "df['Number Of Passengers'].describe()"
   ]
  },
  {
   "cell_type": "code",
   "execution_count": 52,
   "metadata": {},
   "outputs": [],
   "source": [
    "# we can't use insurance to predict the price\n",
    "df=df.drop('vehicle body',axis=1)\n",
    "df=df.drop('third party',axis=1)\n",
    "df=df.drop('Sum',axis=1)"
   ]
  },
  {
   "cell_type": "code",
   "execution_count": 53,
   "metadata": {},
   "outputs": [
    {
     "data": {
      "text/plain": [
       "count      5690.000000\n",
       "mean      70111.415114\n",
       "std       57362.278794\n",
       "min        1111.000000\n",
       "25%       39000.000000\n",
       "50%       58000.000000\n",
       "75%       85000.000000\n",
       "max      999999.000000\n",
       "Name: Price, dtype: float64"
      ]
     },
     "execution_count": 53,
     "metadata": {},
     "output_type": "execute_result"
    }
   ],
   "source": [
    "df['Price'].describe()"
   ]
  },
  {
   "cell_type": "code",
   "execution_count": 54,
   "metadata": {},
   "outputs": [
    {
     "data": {
      "image/png": "[encoded data removed]",
      "text/plain": [
       "<Figure size 1000x600 with 1 Axes>"
      ]
     },
     "metadata": {},
     "output_type": "display_data"
    }
   ],
   "source": [
    "# Histogram of 'Price' before remove the outliers\n",
    "plt.figure(figsize=(10, 6))\n",
    "plt.hist(df['Price'], bins=30, color='skyblue', edgecolor='black')\n",
    "plt.title('Distribution of Prices')\n",
    "plt.xlabel('Price')\n",
    "plt.ylabel('Frequency')\n",
    "plt.show()"
   ]
  },
  {
   "cell_type": "code",
   "execution_count": 55,
   "metadata": {},
   "outputs": [
    {
     "name": "stdout",
     "output_type": "stream",
     "text": [
      "Percentage of Outliers: 5.20%\n"
     ]
    }
   ],
   "source": [
    "column_name = 'Price'\n",
    "\n",
    "# Calculate the interquartile range (IQR)\n",
    "Q1_price = df[column_name].quantile(0.25)\n",
    "Q3_price= df[column_name].quantile(0.75)\n",
    "iqr_price_value = Q3_price - Q1_price\n",
    "\n",
    "# Set a multiplier for the IQR to define the outlier threshold\n",
    "threshold_multiplier = 1.5\n",
    "\n",
    "# Calculate the lower and upper bounds for outliers\n",
    "price_lower_bound = Q1_price - threshold_multiplier * iqr_price_value\n",
    "price_upper_bound = Q3_price + threshold_multiplier * iqr_price_value\n",
    "\n",
    "# Identify outliers using the calculated bounds\n",
    "price_outliers = (df[column_name] < price_lower_bound) | (df[column_name] > price_upper_bound)\n",
    "\n",
    "# Calculate the percentage of outliers\n",
    "price_percentage_outliers = np.sum(price_outliers) / len(df[column_name]) * 100\n",
    "\n",
    "print(f\"Percentage of Outliers: {price_percentage_outliers:.2f}%\")"
   ]
  },
  {
   "cell_type": "code",
   "execution_count": 56,
   "metadata": {},
   "outputs": [
    {
     "name": "stdout",
     "output_type": "stream",
     "text": [
      "Percentage of Outliers Removed: 0.00%\n"
     ]
    }
   ],
   "source": [
    "# Identify and remove outliers from the DataFrame\n",
    "df = df[(df[column_name] >= price_lower_bound) & (df[column_name] <= price_upper_bound)]\n",
    "\n",
    "# the percentage of outliers removed\n",
    "price_percentage_outliers_removed = 100 - (len(df) / len(df[column_name]) * 100)\n",
    "print(f\"Percentage of Outliers Removed: {price_percentage_outliers_removed:.2f}%\")"
   ]
  },
  {
   "cell_type": "code",
   "execution_count": 57,
   "metadata": {},
   "outputs": [
    {
     "data": {
      "text/plain": [
       "count      5394.000000\n",
       "mean      60976.262885\n",
       "std       31277.847900\n",
       "min        1111.000000\n",
       "25%       38000.000000\n",
       "50%       55000.000000\n",
       "75%       78000.000000\n",
       "max      153000.000000\n",
       "Name: Price, dtype: float64"
      ]
     },
     "execution_count": 57,
     "metadata": {},
     "output_type": "execute_result"
    }
   ],
   "source": [
    "df['Price'].describe()"
   ]
  },
  {
   "cell_type": "code",
   "execution_count": 58,
   "metadata": {},
   "outputs": [
    {
     "data": {
      "image/png": "[encoded data removed]",
      "text/plain": [
       "<Figure size 1000x600 with 1 Axes>"
      ]
     },
     "metadata": {},
     "output_type": "display_data"
    }
   ],
   "source": [
    "# Histogram of 'Price' after remove the outliers\n",
    "plt.figure(figsize=(10, 6))\n",
    "plt.hist(df['Price'], bins=30, color='skyblue', edgecolor='black')\n",
    "plt.title('Distribution of Prices')\n",
    "plt.xlabel('Price')\n",
    "plt.ylabel('Frequency')\n",
    "plt.show()"
   ]
  },
  {
   "cell_type": "code",
   "execution_count": 59,
   "metadata": {},
   "outputs": [],
   "source": [
    "price_scaler = MinMaxScaler()\n",
    "df['normalized_price'] = price_scaler.fit_transform(df[['Price']])"
   ]
  },
  {
   "cell_type": "code",
   "execution_count": 60,
   "metadata": {},
   "outputs": [],
   "source": [
    "with open('price_scaler.pkl', 'wb') as scaler_file:\n",
    "    pickle.dump(price_scaler, scaler_file)"
   ]
  },
  {
   "cell_type": "code",
   "execution_count": 61,
   "metadata": {},
   "outputs": [
    {
     "data": {
      "text/plain": [
       "count    5394.000000\n",
       "mean        0.394138\n",
       "std         0.205926\n",
       "min         0.000000\n",
       "25%         0.242868\n",
       "50%         0.354792\n",
       "75%         0.506218\n",
       "max         1.000000\n",
       "Name: normalized_price, dtype: float64"
      ]
     },
     "execution_count": 61,
     "metadata": {},
     "output_type": "execute_result"
    }
   ],
   "source": [
    "df['normalized_price'].describe()"
   ]
  },
  {
   "cell_type": "markdown",
   "metadata": {},
   "source": [
    "# Feature Engeneering"
   ]
  },
  {
   "cell_type": "code",
   "execution_count": 62,
   "metadata": {},
   "outputs": [],
   "source": [
    "df['Fuel type'] = df['Fuel type'].replace({\n",
    "    'بنزين': 'Gasoline',\n",
    "    'ديزل': 'Diesel',\n",
    "    'هايبرد': 'Hybrid',\n",
    "    'كهرباء': 'Electric'\n",
    "})\n",
    "\n",
    "df['Gear type'] = df['Gear type'].replace({\n",
    "    'اوتوماتيك': 'Automatic',\n",
    "    'نصف اوتوماتيك': 'Semi-Automatic',\n",
    "    'عادي': 'ManualGear'\n",
    "})\n",
    "\n",
    "df['Glass'] = df['Glass'].replace({\n",
    "    'الكتروني': 'Electronic',\n",
    "    'يدوي': 'ManualGlass'\n",
    "})\n",
    "\n",
    "df['Payment method'] = df['Payment method'].replace({\n",
    "    'إمكانية التقسيط': 'Installment',\n",
    "    'نقدا فقط': 'Cash'\n",
    "})\n"
   ]
  },
  {
   "cell_type": "code",
   "execution_count": 63,
   "metadata": {},
   "outputs": [],
   "source": [
    "one_hot_encoded = pd.get_dummies(df['Fuel type'], prefix=None)\n",
    "df = pd.concat([df, one_hot_encoded], axis=1)"
   ]
  },
  {
   "cell_type": "code",
   "execution_count": 64,
   "metadata": {},
   "outputs": [],
   "source": [
    "one_hot_encoded = pd.get_dummies(df['Gear type'], prefix=None)\n",
    "df = pd.concat([df, one_hot_encoded], axis=1)"
   ]
  },
  {
   "cell_type": "code",
   "execution_count": 65,
   "metadata": {},
   "outputs": [],
   "source": [
    "one_hot_encoded = pd.get_dummies(df['Glass'], prefix=None)\n",
    "df = pd.concat([df, one_hot_encoded], axis=1)"
   ]
  },
  {
   "cell_type": "code",
   "execution_count": 66,
   "metadata": {},
   "outputs": [],
   "source": [
    "one_hot_encoded = pd.get_dummies(df['Name'], prefix=None)\n",
    "df = pd.concat([df, one_hot_encoded], axis=1)"
   ]
  },
  {
   "cell_type": "code",
   "execution_count": 67,
   "metadata": {},
   "outputs": [],
   "source": [
    "one_hot_encoded = pd.get_dummies(df['Payment method'], prefix=None)\n",
    "df = pd.concat([df, one_hot_encoded], axis=1)\n",
    "df= df.drop('Payment method', axis=1)"
   ]
  },
  {
   "cell_type": "code",
   "execution_count": 68,
   "metadata": {},
   "outputs": [],
   "source": [
    "df.replace({False: 0, True: 1}, inplace=True)"
   ]
  },
  {
   "cell_type": "code",
   "execution_count": 69,
   "metadata": {},
   "outputs": [],
   "source": [
    "columns = ['Fuel type', 'Gear type', 'Glass', 'Name']\n",
    "df= df.drop(columns, axis=1)"
   ]
  },
  {
   "cell_type": "code",
   "execution_count": 70,
   "metadata": {},
   "outputs": [],
   "source": [
    "license_type_mapping = {\n",
    "    'تدريب سياقة': 2,\n",
    "    'تجاري': 6,\n",
    "    'حكومي': 3,\n",
    "    'تأجير': 4 , \n",
    "    'خصوصي': 5, \n",
    "    'عمومي'  : 1\n",
    "}\n",
    "\n",
    "df['license type'] = df['license type'].map(license_type_mapping)"
   ]
  },
  {
   "cell_type": "code",
   "execution_count": 71,
   "metadata": {},
   "outputs": [],
   "source": [
    "license_dict = {'نمرة صفراء': 2, 'فلسطينية': 1}\n",
    "df['driving license'] = df['driving license'].replace(license_dict)"
   ]
  },
  {
   "cell_type": "code",
   "execution_count": 72,
   "metadata": {},
   "outputs": [],
   "source": [
    "df['sunroof']=df['sunroof'].astype(int)\n",
    "df['magnesium_rims']=df['magnesium_rims'].astype(int)"
   ]
  },
  {
   "cell_type": "markdown",
   "metadata": {},
   "source": [
    "# Train a DecisionTree model to predict the price"
   ]
  },
  {
   "cell_type": "code",
   "execution_count": 73,
   "metadata": {},
   "outputs": [],
   "source": [
    "y_price = df['normalized_price']\n",
    "X_price = df.drop(columns=['Price', 'normalized_price'])  \n",
    "\n",
    "# Split the data into training and testing sets\n",
    "X_train_price, X_test_price, y_train_price, y_test_price = train_test_split(X_price, y_price, test_size=0.2, random_state=42)\n",
    "\n",
    "price_prediction_model = DecisionTreeRegressor(random_state=42)\n",
    "price_prediction_model.fit(X_train_price, y_train_price)\n",
    "\n",
    "y_pred =price_prediction_model.predict(X_test_price)\n"
   ]
  },
  {
   "cell_type": "code",
   "execution_count": 74,
   "metadata": {},
   "outputs": [
    {
     "name": "stdout",
     "output_type": "stream",
     "text": [
      "Mean Squared Error: 0.024061430622746925\n",
      "R-squared: 0.45172226607600263\n"
     ]
    }
   ],
   "source": [
    "# Calculate Mean Squared Error\n",
    "mse = mean_squared_error(y_test_price, y_pred)\n",
    "print(f'Mean Squared Error: {mse}')\n",
    "\n",
    "# Calculate R-squared\n",
    "r2 = r2_score(y_test_price, y_pred)\n",
    "print(f'R-squared: {r2}')"
   ]
  },
  {
   "cell_type": "code",
   "execution_count": 75,
   "metadata": {},
   "outputs": [],
   "source": [
    "with open('price_prediction_model.pkl', 'wb') as model_file:\n",
    "    pickle.dump(price_prediction_model,model_file)"
   ]
  },
  {
   "cell_type": "code",
   "execution_count": 76,
   "metadata": {},
   "outputs": [
    {
     "data": {
      "text/html": [
       "<div>\n",
       "<style scoped>\n",
       "    .dataframe tbody tr th:only-of-type {\n",
       "        vertical-align: middle;\n",
       "    }\n",
       "\n",
       "    .dataframe tbody tr th {\n",
       "        vertical-align: top;\n",
       "    }\n",
       "\n",
       "    .dataframe thead th {\n",
       "        text-align: right;\n",
       "    }\n",
       "</style>\n",
       "<table border=\"1\" class=\"dataframe\">\n",
       "  <thead>\n",
       "    <tr style=\"text-align: right;\">\n",
       "      <th></th>\n",
       "      <th>license type</th>\n",
       "      <th>driving license</th>\n",
       "      <th>Motor power</th>\n",
       "      <th>Previous owners</th>\n",
       "      <th>Number Of Passengers</th>\n",
       "      <th>magnesium_rims</th>\n",
       "      <th>sunroof</th>\n",
       "      <th>Model</th>\n",
       "      <th>Price</th>\n",
       "      <th>scaled_motor_power</th>\n",
       "      <th>...</th>\n",
       "      <th>هونداي سوناتا</th>\n",
       "      <th>هونداي فيرنا</th>\n",
       "      <th>هونداي فيلوستر</th>\n",
       "      <th>هونداي فينيو</th>\n",
       "      <th>هونداي كليك</th>\n",
       "      <th>هونداي كوبيه</th>\n",
       "      <th>هونداي كونا</th>\n",
       "      <th>هونداي ٢٠١٥</th>\n",
       "      <th>Cash</th>\n",
       "      <th>Installment</th>\n",
       "    </tr>\n",
       "  </thead>\n",
       "  <tbody>\n",
       "    <tr>\n",
       "      <th>0</th>\n",
       "      <td>5</td>\n",
       "      <td>1</td>\n",
       "      <td>1600.0</td>\n",
       "      <td>1</td>\n",
       "      <td>5</td>\n",
       "      <td>0</td>\n",
       "      <td>0</td>\n",
       "      <td>2008</td>\n",
       "      <td>44000.0</td>\n",
       "      <td>0.458333</td>\n",
       "      <td>...</td>\n",
       "      <td>0</td>\n",
       "      <td>0</td>\n",
       "      <td>0</td>\n",
       "      <td>0</td>\n",
       "      <td>0</td>\n",
       "      <td>0</td>\n",
       "      <td>0</td>\n",
       "      <td>0</td>\n",
       "      <td>0</td>\n",
       "      <td>1</td>\n",
       "    </tr>\n",
       "    <tr>\n",
       "      <th>1</th>\n",
       "      <td>5</td>\n",
       "      <td>1</td>\n",
       "      <td>1400.0</td>\n",
       "      <td>1</td>\n",
       "      <td>5</td>\n",
       "      <td>1</td>\n",
       "      <td>0</td>\n",
       "      <td>2013</td>\n",
       "      <td>58000.0</td>\n",
       "      <td>0.375000</td>\n",
       "      <td>...</td>\n",
       "      <td>0</td>\n",
       "      <td>0</td>\n",
       "      <td>0</td>\n",
       "      <td>0</td>\n",
       "      <td>0</td>\n",
       "      <td>0</td>\n",
       "      <td>0</td>\n",
       "      <td>0</td>\n",
       "      <td>1</td>\n",
       "      <td>0</td>\n",
       "    </tr>\n",
       "    <tr>\n",
       "      <th>2</th>\n",
       "      <td>5</td>\n",
       "      <td>1</td>\n",
       "      <td>2000.0</td>\n",
       "      <td>1</td>\n",
       "      <td>5</td>\n",
       "      <td>1</td>\n",
       "      <td>1</td>\n",
       "      <td>2013</td>\n",
       "      <td>40000.0</td>\n",
       "      <td>0.625000</td>\n",
       "      <td>...</td>\n",
       "      <td>0</td>\n",
       "      <td>0</td>\n",
       "      <td>0</td>\n",
       "      <td>0</td>\n",
       "      <td>0</td>\n",
       "      <td>0</td>\n",
       "      <td>0</td>\n",
       "      <td>0</td>\n",
       "      <td>0</td>\n",
       "      <td>1</td>\n",
       "    </tr>\n",
       "    <tr>\n",
       "      <th>3</th>\n",
       "      <td>5</td>\n",
       "      <td>1</td>\n",
       "      <td>1900.0</td>\n",
       "      <td>3</td>\n",
       "      <td>5</td>\n",
       "      <td>1</td>\n",
       "      <td>0</td>\n",
       "      <td>2010</td>\n",
       "      <td>70000.0</td>\n",
       "      <td>0.583333</td>\n",
       "      <td>...</td>\n",
       "      <td>0</td>\n",
       "      <td>0</td>\n",
       "      <td>0</td>\n",
       "      <td>0</td>\n",
       "      <td>0</td>\n",
       "      <td>0</td>\n",
       "      <td>0</td>\n",
       "      <td>0</td>\n",
       "      <td>0</td>\n",
       "      <td>1</td>\n",
       "    </tr>\n",
       "    <tr>\n",
       "      <th>4</th>\n",
       "      <td>5</td>\n",
       "      <td>1</td>\n",
       "      <td>1600.0</td>\n",
       "      <td>1</td>\n",
       "      <td>5</td>\n",
       "      <td>1</td>\n",
       "      <td>0</td>\n",
       "      <td>1999</td>\n",
       "      <td>33000.0</td>\n",
       "      <td>0.458333</td>\n",
       "      <td>...</td>\n",
       "      <td>0</td>\n",
       "      <td>0</td>\n",
       "      <td>0</td>\n",
       "      <td>0</td>\n",
       "      <td>0</td>\n",
       "      <td>0</td>\n",
       "      <td>0</td>\n",
       "      <td>0</td>\n",
       "      <td>1</td>\n",
       "      <td>0</td>\n",
       "    </tr>\n",
       "    <tr>\n",
       "      <th>...</th>\n",
       "      <td>...</td>\n",
       "      <td>...</td>\n",
       "      <td>...</td>\n",
       "      <td>...</td>\n",
       "      <td>...</td>\n",
       "      <td>...</td>\n",
       "      <td>...</td>\n",
       "      <td>...</td>\n",
       "      <td>...</td>\n",
       "      <td>...</td>\n",
       "      <td>...</td>\n",
       "      <td>...</td>\n",
       "      <td>...</td>\n",
       "      <td>...</td>\n",
       "      <td>...</td>\n",
       "      <td>...</td>\n",
       "      <td>...</td>\n",
       "      <td>...</td>\n",
       "      <td>...</td>\n",
       "      <td>...</td>\n",
       "      <td>...</td>\n",
       "    </tr>\n",
       "    <tr>\n",
       "      <th>6855</th>\n",
       "      <td>1</td>\n",
       "      <td>1</td>\n",
       "      <td>2500.0</td>\n",
       "      <td>1</td>\n",
       "      <td>8</td>\n",
       "      <td>0</td>\n",
       "      <td>0</td>\n",
       "      <td>2010</td>\n",
       "      <td>32000.0</td>\n",
       "      <td>0.833333</td>\n",
       "      <td>...</td>\n",
       "      <td>0</td>\n",
       "      <td>0</td>\n",
       "      <td>0</td>\n",
       "      <td>0</td>\n",
       "      <td>0</td>\n",
       "      <td>0</td>\n",
       "      <td>0</td>\n",
       "      <td>0</td>\n",
       "      <td>0</td>\n",
       "      <td>1</td>\n",
       "    </tr>\n",
       "    <tr>\n",
       "      <th>6856</th>\n",
       "      <td>5</td>\n",
       "      <td>1</td>\n",
       "      <td>1000.0</td>\n",
       "      <td>1</td>\n",
       "      <td>5</td>\n",
       "      <td>0</td>\n",
       "      <td>0</td>\n",
       "      <td>2006</td>\n",
       "      <td>29000.0</td>\n",
       "      <td>0.208333</td>\n",
       "      <td>...</td>\n",
       "      <td>0</td>\n",
       "      <td>0</td>\n",
       "      <td>0</td>\n",
       "      <td>0</td>\n",
       "      <td>0</td>\n",
       "      <td>0</td>\n",
       "      <td>0</td>\n",
       "      <td>0</td>\n",
       "      <td>1</td>\n",
       "      <td>0</td>\n",
       "    </tr>\n",
       "    <tr>\n",
       "      <th>6858</th>\n",
       "      <td>5</td>\n",
       "      <td>1</td>\n",
       "      <td>1200.0</td>\n",
       "      <td>2</td>\n",
       "      <td>5</td>\n",
       "      <td>1</td>\n",
       "      <td>0</td>\n",
       "      <td>2012</td>\n",
       "      <td>61500.0</td>\n",
       "      <td>0.291667</td>\n",
       "      <td>...</td>\n",
       "      <td>0</td>\n",
       "      <td>0</td>\n",
       "      <td>0</td>\n",
       "      <td>0</td>\n",
       "      <td>0</td>\n",
       "      <td>0</td>\n",
       "      <td>0</td>\n",
       "      <td>0</td>\n",
       "      <td>0</td>\n",
       "      <td>1</td>\n",
       "    </tr>\n",
       "    <tr>\n",
       "      <th>6860</th>\n",
       "      <td>5</td>\n",
       "      <td>1</td>\n",
       "      <td>2000.0</td>\n",
       "      <td>1</td>\n",
       "      <td>7</td>\n",
       "      <td>1</td>\n",
       "      <td>1</td>\n",
       "      <td>2001</td>\n",
       "      <td>45000.0</td>\n",
       "      <td>0.625000</td>\n",
       "      <td>...</td>\n",
       "      <td>0</td>\n",
       "      <td>0</td>\n",
       "      <td>0</td>\n",
       "      <td>0</td>\n",
       "      <td>0</td>\n",
       "      <td>0</td>\n",
       "      <td>0</td>\n",
       "      <td>0</td>\n",
       "      <td>1</td>\n",
       "      <td>0</td>\n",
       "    </tr>\n",
       "    <tr>\n",
       "      <th>6863</th>\n",
       "      <td>5</td>\n",
       "      <td>1</td>\n",
       "      <td>1400.0</td>\n",
       "      <td>1</td>\n",
       "      <td>5</td>\n",
       "      <td>1</td>\n",
       "      <td>0</td>\n",
       "      <td>2014</td>\n",
       "      <td>60000.0</td>\n",
       "      <td>0.375000</td>\n",
       "      <td>...</td>\n",
       "      <td>0</td>\n",
       "      <td>0</td>\n",
       "      <td>0</td>\n",
       "      <td>0</td>\n",
       "      <td>0</td>\n",
       "      <td>0</td>\n",
       "      <td>0</td>\n",
       "      <td>0</td>\n",
       "      <td>0</td>\n",
       "      <td>1</td>\n",
       "    </tr>\n",
       "  </tbody>\n",
       "</table>\n",
       "<p>5394 rows × 536 columns</p>\n",
       "</div>"
      ],
      "text/plain": [
       "      license type  driving license  Motor power  Previous owners  \\\n",
       "0                5                1       1600.0                1   \n",
       "1                5                1       1400.0                1   \n",
       "2                5                1       2000.0                1   \n",
       "3                5                1       1900.0                3   \n",
       "4                5                1       1600.0                1   \n",
       "...            ...              ...          ...              ...   \n",
       "6855             1                1       2500.0                1   \n",
       "6856             5                1       1000.0                1   \n",
       "6858             5                1       1200.0                2   \n",
       "6860             5                1       2000.0                1   \n",
       "6863             5                1       1400.0                1   \n",
       "\n",
       "      Number Of Passengers  magnesium_rims  sunroof  Model    Price  \\\n",
       "0                        5               0        0   2008  44000.0   \n",
       "1                        5               1        0   2013  58000.0   \n",
       "2                        5               1        1   2013  40000.0   \n",
       "3                        5               1        0   2010  70000.0   \n",
       "4                        5               1        0   1999  33000.0   \n",
       "...                    ...             ...      ...    ...      ...   \n",
       "6855                     8               0        0   2010  32000.0   \n",
       "6856                     5               0        0   2006  29000.0   \n",
       "6858                     5               1        0   2012  61500.0   \n",
       "6860                     7               1        1   2001  45000.0   \n",
       "6863                     5               1        0   2014  60000.0   \n",
       "\n",
       "      scaled_motor_power  ...  هونداي سوناتا  هونداي فيرنا  هونداي فيلوستر  \\\n",
       "0               0.458333  ...              0             0               0   \n",
       "1               0.375000  ...              0             0               0   \n",
       "2               0.625000  ...              0             0               0   \n",
       "3               0.583333  ...              0             0               0   \n",
       "4               0.458333  ...              0             0               0   \n",
       "...                  ...  ...            ...           ...             ...   \n",
       "6855            0.833333  ...              0             0               0   \n",
       "6856            0.208333  ...              0             0               0   \n",
       "6858            0.291667  ...              0             0               0   \n",
       "6860            0.625000  ...              0             0               0   \n",
       "6863            0.375000  ...              0             0               0   \n",
       "\n",
       "      هونداي فينيو  هونداي كليك  هونداي كوبيه  هونداي كونا  هونداي ٢٠١٥  Cash  \\\n",
       "0                0            0             0            0            0     0   \n",
       "1                0            0             0            0            0     1   \n",
       "2                0            0             0            0            0     0   \n",
       "3                0            0             0            0            0     0   \n",
       "4                0            0             0            0            0     1   \n",
       "...            ...          ...           ...          ...          ...   ...   \n",
       "6855             0            0             0            0            0     0   \n",
       "6856             0            0             0            0            0     1   \n",
       "6858             0            0             0            0            0     0   \n",
       "6860             0            0             0            0            0     1   \n",
       "6863             0            0             0            0            0     0   \n",
       "\n",
       "      Installment  \n",
       "0               1  \n",
       "1               0  \n",
       "2               1  \n",
       "3               1  \n",
       "4               0  \n",
       "...           ...  \n",
       "6855            1  \n",
       "6856            0  \n",
       "6858            1  \n",
       "6860            0  \n",
       "6863            1  \n",
       "\n",
       "[5394 rows x 536 columns]"
      ]
     },
     "execution_count": 76,
     "metadata": {},
     "output_type": "execute_result"
    }
   ],
   "source": [
    "df"
   ]
  },
  {
   "cell_type": "code",
   "execution_count": 77,
   "metadata": {},
   "outputs": [],
   "source": [
    "df.to_csv('resultDF.csv', index=False)"
   ]
  }
 ],
 "metadata": {
  "kernelspec": {
   "display_name": "Python 3",
   "language": "python",
   "name": "python3"
  },
  "language_info": {
   "codemirror_mode": {
    "name": "ipython",
    "version": 3
   },
   "file_extension": ".py",
   "mimetype": "text/x-python",
   "name": "python",
   "nbconvert_exporter": "python",
   "pygments_lexer": "ipython3",
   "version": "3.10.11"
  }
 },
 "nbformat": 4,
 "nbformat_minor": 2
}
